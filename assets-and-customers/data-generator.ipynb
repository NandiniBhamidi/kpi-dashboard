{
 "cells": [
  {
   "cell_type": "code",
   "execution_count": 4,
   "metadata": {},
   "outputs": [],
   "source": [
    "import numpy as np\n",
    "import pandas as pd"
   ]
  },
  {
   "cell_type": "code",
   "execution_count": 15,
   "metadata": {},
   "outputs": [],
   "source": [
    "def generate_assets_df(n_transformers=100, n_cell_towers=10):\n",
    "    \"\"\"\n",
    "    Generates the assets.csv file with columns for AssetID, Location (geospatial),\n",
    "    AssetDescription (string), and State (boolean).\n",
    "    \n",
    "    Parameters:\n",
    "    - n_transformers: The number of transformers.\n",
    "    - n_cell_towers: The number of cell towers.\n",
    "    \"\"\"\n",
    "    \n",
    "    # Generating AssetID\n",
    "    asset_ids = np.arange(1, n_transformers + n_cell_towers + 1)\n",
    "    \n",
    "    # Generating Location (lat, long)\n",
    "    latitudes = np.random.uniform(-90, 90, n_transformers + n_cell_towers)\n",
    "    longitudes = np.random.uniform(-180, 180, n_transformers + n_cell_towers)\n",
    "    locations = [(lat, long) for lat, long in zip(latitudes, longitudes)]\n",
    "    \n",
    "    # Generating AssetDescription\n",
    "    asset_descriptions = ['Transformer'] * n_transformers + ['Cell Tower'] * n_cell_towers\n",
    "    \n",
    "    # Generating State (functional or not)\n",
    "    states = np.random.choice([True, False], n_transformers + n_cell_towers)\n",
    "    \n",
    "    # Creating DataFrame\n",
    "    assets_df = pd.DataFrame({\n",
    "        'AssetID': asset_ids,\n",
    "        'Location': locations,\n",
    "        'AssetDescription': asset_descriptions,\n",
    "        'State': states\n",
    "    })\n",
    "    return assets_df\n",
    "\n",
    "def generate_customers_df(n_customers=100000, n_transformers=100, n_cell_towers=10, age_min=23, age_max=50):\n",
    "    \"\"\"\n",
    "    Generates a DataFrame for customers based on specified constraints and returns it.\n",
    "    \n",
    "    Parameters:\n",
    "    - n_customers: The number of customers to generate.\n",
    "    - n_transformers: The number of transformers (used for AssetID assignments).\n",
    "    - n_cell_towers: The number of cell towers (used for AssetID assignments).\n",
    "    - age_min: Minimum age for customers.\n",
    "    - age_max: Maximum age for customers.\n",
    "    \"\"\"\n",
    "    # Assuming each customer is connected to one transformer\n",
    "    transformer_ids = np.arange(1, n_transformers + 1)\n",
    "    # For cell towers, just need to ensure it's within range but not specifically assigned for simplicity\n",
    "    cell_tower_ids = np.arange(n_transformers + 1, n_transformers + n_cell_towers + 1)\n",
    "    \n",
    "    # Generating CustomerID\n",
    "    customer_ids = np.arange(1, n_customers + 1)\n",
    "    \n",
    "    # Randomly assigning one transformer to each customer\n",
    "    assigned_transformer_ids = np.random.choice(transformer_ids, n_customers)\n",
    "    \n",
    "    # Generating UsageHours, CustName, and CustAge\n",
    "    usage_hours = np.random.randint(1, 25, n_customers)\n",
    "    cust_names = [f\"Customer_{i}\" for i in customer_ids]\n",
    "    cust_ages = np.random.randint(age_min, age_max + 1, n_customers)\n",
    "    \n",
    "    # Creating the DataFrame\n",
    "    customers_df = pd.DataFrame({\n",
    "        'CustomerID': customer_ids,\n",
    "        'AssetID': assigned_transformer_ids,  # Note: this only assigns transformers for simplicity\n",
    "        'UsageHours': usage_hours,\n",
    "        'CustName': cust_names,\n",
    "        'CustAge': cust_ages\n",
    "    })\n",
    "    \n",
    "    return customers_df\n",
    "\n",
    "\n",
    "def save_df_to_csv(filename, df):   \n",
    "    # Saving to CSV\n",
    "    df.to_csv(filename, index=False)\n",
    "    print(f\"{filename} has saved with {len(df)} rows.\")\n"
   ]
  },
  {
   "cell_type": "code",
   "execution_count": 13,
   "metadata": {},
   "outputs": [
    {
     "name": "stdout",
     "output_type": "stream",
     "text": [
      "assets.csv has saved with 110 rows.\n"
     ]
    }
   ],
   "source": [
    "assets_df = generate_assets_df(n_cell_towers=10, n_transformers=100)\n",
    "save_df_to_csv(\"assets.csv\", assets_df)"
   ]
  },
  {
   "cell_type": "code",
   "execution_count": 16,
   "metadata": {},
   "outputs": [
    {
     "name": "stdout",
     "output_type": "stream",
     "text": [
      "customers.csv has saved with 100000 rows.\n"
     ]
    }
   ],
   "source": [
    "customers_df = generate_customers_df()\n",
    "save_df_to_csv(\"customers.csv\", customers_df)"
   ]
  }
 ],
 "metadata": {
  "kernelspec": {
   "display_name": ".venv",
   "language": "python",
   "name": "python3"
  },
  "language_info": {
   "codemirror_mode": {
    "name": "ipython",
    "version": 3
   },
   "file_extension": ".py",
   "mimetype": "text/x-python",
   "name": "python",
   "nbconvert_exporter": "python",
   "pygments_lexer": "ipython3",
   "version": "3.9.6"
  }
 },
 "nbformat": 4,
 "nbformat_minor": 2
}
